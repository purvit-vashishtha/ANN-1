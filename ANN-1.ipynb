{
  "nbformat": 4,
  "nbformat_minor": 0,
  "metadata": {
    "colab": {
      "name": "DeepLearning.ipynb",
      "private_outputs": true,
      "provenance": [],
      "collapsed_sections": [],
      "toc_visible": true
    },
    "kernelspec": {
      "name": "python3",
      "display_name": "Python 3"
    },
    "language_info": {
      "name": "python"
    }
  },
  "cells": [
    {
      "cell_type": "markdown",
      "metadata": {
        "id": "PiqUCJaxDzie"
      },
      "source": [
        "# **Deep Learning** : Artificial Neural Network"
      ]
    },
    {
      "cell_type": "markdown",
      "metadata": {
        "id": "0OI9qP3W9WtQ"
      },
      "source": [
        "### Problem Statement:\n",
        "* Predict whether the customer will leave the bank or not based on certain sets of features provided in the dataset."
      ]
    },
    {
      "cell_type": "code",
      "metadata": {
        "id": "7oOGRjfbDkLV"
      },
      "source": [
        "# importing libraries\n",
        "import numpy as np\n",
        "import pandas as pd\n",
        "import tensorflow as tf"
      ],
      "execution_count": null,
      "outputs": []
    },
    {
      "cell_type": "code",
      "metadata": {
        "id": "KHwkLjsOD2pB"
      },
      "source": [
        "# tensorflow version\n",
        "tf.__version__"
      ],
      "execution_count": null,
      "outputs": []
    },
    {
      "cell_type": "code",
      "metadata": {
        "id": "a43fp61bEIet"
      },
      "source": [
        "# importing dataset\n",
        "df = pd.read_csv(\"Churn_Modelling.csv\")\n",
        "df.head()"
      ],
      "execution_count": null,
      "outputs": []
    },
    {
      "cell_type": "code",
      "metadata": {
        "id": "1LTb6Y2bEpjZ"
      },
      "source": [
        "# checking dataset\n",
        "df.head(10).T"
      ],
      "execution_count": null,
      "outputs": []
    },
    {
      "cell_type": "code",
      "metadata": {
        "id": "IH1npw3cFA88"
      },
      "source": [
        "# Basic information of data\n",
        "df.info()"
      ],
      "execution_count": null,
      "outputs": []
    },
    {
      "cell_type": "code",
      "metadata": {
        "id": "UHVARlsiFGgF"
      },
      "source": [
        "# statistical info\n",
        "df.describe()"
      ],
      "execution_count": null,
      "outputs": []
    },
    {
      "cell_type": "code",
      "metadata": {
        "id": "AE0Bw4FrFJNj"
      },
      "source": [
        "# checking for null values\n",
        "df.isna().sum()"
      ],
      "execution_count": null,
      "outputs": []
    },
    {
      "cell_type": "code",
      "metadata": {
        "id": "I4GngeaSFLeX"
      },
      "source": [
        "df.Geography.unique()"
      ],
      "execution_count": null,
      "outputs": []
    },
    {
      "cell_type": "code",
      "metadata": {
        "id": "J1veRWfWFgI-"
      },
      "source": [
        "# encoding Geography and Gender column\n",
        "from sklearn.preprocessing import LabelEncoder\n",
        "le = LabelEncoder()\n",
        "le2 = LabelEncoder()\n",
        "df[\"Geography\"] = le.fit_transform(df[\"Geography\"])\n",
        "df[\"Gender\"] = le2.fit_transform(df[\"Gender\"])"
      ],
      "execution_count": null,
      "outputs": []
    },
    {
      "cell_type": "code",
      "metadata": {
        "id": "CQ7rRQvzGEe2"
      },
      "source": [
        "df.head().T"
      ],
      "execution_count": null,
      "outputs": []
    },
    {
      "cell_type": "code",
      "metadata": {
        "id": "5zLiSnX5GGlb"
      },
      "source": [
        "# dropping columns which are not required for prediction\n",
        "df.drop(columns=[\"Surname\",\"RowNumber\", \"CustomerId\"], inplace=True)"
      ],
      "execution_count": null,
      "outputs": []
    },
    {
      "cell_type": "code",
      "metadata": {
        "id": "HzP-KbriGUw6"
      },
      "source": [
        "df.head()"
      ],
      "execution_count": null,
      "outputs": []
    },
    {
      "cell_type": "markdown",
      "metadata": {
        "id": "fkt6gC5-NT_B"
      },
      "source": [
        "#*Splitting Data into Training and Testing Set*"
      ]
    },
    {
      "cell_type": "code",
      "metadata": {
        "id": "o8zZxuj1MoAQ"
      },
      "source": [
        "X = df.drop(columns='Exited')\n",
        "y = df.Exited"
      ],
      "execution_count": null,
      "outputs": []
    },
    {
      "cell_type": "code",
      "metadata": {
        "id": "DAMVMx4QMRkr"
      },
      "source": [
        "from sklearn.model_selection import train_test_split\n",
        "X_train, X_test, y_train, y_test = train_test_split(X, y,test_size=0.2, random_state=0)\n",
        "\n",
        "print(X_train.shape)\n",
        "print(X_test.shape)\n",
        "print(y_train.shape)\n",
        "print(y_test.shape)"
      ],
      "execution_count": null,
      "outputs": []
    },
    {
      "cell_type": "markdown",
      "metadata": {
        "id": "1ycpxmhSNZpL"
      },
      "source": [
        "## *Feature Scaling*"
      ]
    },
    {
      "cell_type": "code",
      "metadata": {
        "id": "L8of54C8Gjbn"
      },
      "source": [
        "from sklearn.preprocessing import StandardScaler\n",
        "sc = StandardScaler()\n",
        "X_train = sc.fit_transform(X_train)\n",
        "X_test = sc.transform(X_test)"
      ],
      "execution_count": null,
      "outputs": []
    },
    {
      "cell_type": "markdown",
      "metadata": {
        "id": "ioDZfoWzyR3l"
      },
      "source": [
        "# *Deep Learning Model*"
      ]
    },
    {
      "cell_type": "code",
      "metadata": {
        "id": "GNlxtEEPNJRF"
      },
      "source": [
        "# initializing Sequential model\n",
        "ann = tf.keras.models.Sequential()"
      ],
      "execution_count": null,
      "outputs": []
    },
    {
      "cell_type": "code",
      "metadata": {
        "id": "rsVw7oeqNMji"
      },
      "source": [
        "# building neural network\n",
        "ann.add(tf.keras.layers.Dense(units=6, activation=\"relu\"))  #first hidden layer\n",
        "ann.add(tf.keras.layers.Dense(units=6, activation=\"relu\"))  #second hidden layer\n",
        "ann.add(tf.keras.layers.Dense(units=1, activation=\"sigmoid\")) #output layer"
      ],
      "execution_count": null,
      "outputs": []
    },
    {
      "cell_type": "code",
      "metadata": {
        "id": "XbiMOYbdy9Dk"
      },
      "source": [
        "# compiling the model\n",
        "ann.compile(optimizer='adam', loss='binary_crossentropy', metrics=['accuracy'])"
      ],
      "execution_count": null,
      "outputs": []
    },
    {
      "cell_type": "code",
      "metadata": {
        "id": "bFbpia8c1zCW"
      },
      "source": [
        "# training the model\n",
        "ann.fit(X_train, y_train, batch_size=32, epochs=30)"
      ],
      "execution_count": null,
      "outputs": []
    },
    {
      "cell_type": "code",
      "metadata": {
        "id": "YE_ZBVxW1zF8"
      },
      "source": [
        "print(ann.predict(sc.transform([[650,2,1,38,3,160000,2,1,1,1159000]]))> 0.5)"
      ],
      "execution_count": null,
      "outputs": []
    },
    {
      "cell_type": "code",
      "metadata": {
        "id": "zYIqkdsK2RtS"
      },
      "source": [
        "df.head()"
      ],
      "execution_count": null,
      "outputs": []
    },
    {
      "cell_type": "code",
      "metadata": {
        "id": "0_xNAx713Cky"
      },
      "source": [
        "y_pred = ann.predict(X_test)\n",
        "y_pred = (y_pred > 0.5)\n",
        "from sklearn.metrics import confusion_matrix, classification_report\n",
        "import seaborn as sns\n",
        "report = classification_report(y_pred, y_test)\n",
        "print(report)\n",
        "cm = confusion_matrix(y_pred, y_test)\n",
        "sns.heatmap(cm, annot= True)\n",
        "print(cm)"
      ],
      "execution_count": null,
      "outputs": []
    },
    {
      "cell_type": "code",
      "metadata": {
        "id": "lC2Lztd06QNq"
      },
      "source": [
        "Author: Purvit Vashishtha"
      ],
      "execution_count": null,
      "outputs": []
    }
  ]
}